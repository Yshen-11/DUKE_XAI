{
  "nbformat": 4,
  "nbformat_minor": 0,
  "metadata": {
    "colab": {
      "provenance": [],
      "authorship_tag": "ABX9TyPvIJaGQbDmb7gzJPZiF/Ak",
      "include_colab_link": true
    },
    "kernelspec": {
      "name": "python3",
      "display_name": "Python 3"
    },
    "language_info": {
      "name": "python"
    }
  },
  "cells": [
    {
      "cell_type": "markdown",
      "metadata": {
        "id": "view-in-github",
        "colab_type": "text"
      },
      "source": [
        "<a href=\"https://colab.research.google.com/github/Yshen-11/DUKE_XAI/blob/main/Streamlit.ipynb\" target=\"_parent\"><img src=\"https://colab.research.google.com/assets/colab-badge.svg\" alt=\"Open In Colab\"/></a>"
      ]
    },
    {
      "cell_type": "code",
      "execution_count": null,
      "metadata": {
        "id": "ffP32KFxBDEJ"
      },
      "outputs": [],
      "source": [
        "import streamlit as st\n",
        "import pandas as pd\n",
        "import numpy as np\n",
        "import shap\n",
        "import matplotlib.pyplot as plt\n",
        "from sklearn.ensemble import RandomForestRegressor\n",
        "from sklearn.preprocessing import StandardScaler\n",
        "import joblib\n",
        "\n",
        "# ===============================\n",
        "# 1. 加载模型和标准化器\n",
        "# ===============================\n",
        "# 加载预训练的随机森林模型和标准化器\n",
        "model = joblib.load(\"best_rf_model.pkl\")  # 替换为实际模型路径\n",
        "scaler = joblib.load(\"scaler.pkl\")       # 替换为实际标准化器路径\n",
        "\n",
        "# 定义特征名称\n",
        "features = ['Yrs', 'G', 'PPG', 'RPG', 'APG', 'WS', 'BPM', 'MPG',\n",
        "            'Efficiency', 'ScoringEfficiency', 'DefensiveImpact',\n",
        "            'ClutchAbility', 'OffDefBalance', 'Potential']\n",
        "\n",
        "# ===============================\n",
        "# 2. Streamlit 页面布局\n",
        "# ===============================\n",
        "st.title(\"NBA 选秀预测系统\")\n",
        "st.write(\"请输入球员的相关数据，系统将预测其选秀顺位，并提供预测解释。\")\n",
        "\n",
        "# ===============================\n",
        "# ===============================\n",
        "# 3. 用户输入表单\n",
        "# ===============================\n",
        "# 创建用户输入区域\n",
        "st.sidebar.header(\"输入球员特征\")\n",
        "input_data = {}\n",
        "\n",
        "for feature in features:\n",
        "    # 根据特征类型设置适当的输入方式\n",
        "    if feature == 'Yrs':  # 整数类型的特征\n",
        "        input_data[feature] = st.sidebar.number_input(\n",
        "            f\"请输入 {feature}:\", value=1, step=1\n",
        "        )\n",
        "    else:  # 浮点数类型的特征\n",
        "        input_data[feature] = st.sidebar.number_input(\n",
        "            f\"请输入 {feature}:\", value=0.0, step=0.1\n",
        "        )\n",
        "\n",
        "# 转换为 pandas 数据框\n",
        "input_df = pd.DataFrame([input_data])\n",
        "\n",
        "\n",
        "# ===============================\n",
        "# 4. 数据标准化和预测\n",
        "# ===============================\n",
        "# 预测按钮\n",
        "if st.sidebar.button(\"预测\"):\n",
        "    # 标准化数据\n",
        "    input_scaled = scaler.transform(input_df)\n",
        "\n",
        "    # 模型预测\n",
        "    prediction = model.predict(input_scaled)\n",
        "\n",
        "    # 显示预测结果\n",
        "    st.subheader(\"预测结果\")\n",
        "    st.write(f\"预测的选秀顺位: **{int(prediction[0])}**\")\n",
        "\n",
        "    # ===============================\n",
        "    # 5. SHAP 特征解释\n",
        "    # ===============================\n",
        "    # 生成 SHAP 值\n",
        "    explainer = shap.TreeExplainer(model)\n",
        "    shap_values = explainer.shap_values(input_scaled)\n",
        "\n",
        "    # 显示特征重要性图\n",
        "    st.subheader(\"特征重要性解释\")\n",
        "    shap.initjs()\n",
        "    shap.force_plot(\n",
        "        explainer.expected_value[0],\n",
        "        shap_values[0],\n",
        "        input_df,\n",
        "        matplotlib=True\n",
        "    )\n",
        "    plt.savefig(\"shap_plot.png\")\n",
        "    st.image(\"shap_plot.png\")\n",
        "\n",
        "    # 全局解释\n",
        "    st.write(\"下方为单次预测的特征贡献图：\")\n",
        "    shap.summary_plot(shap_values, input_df, feature_names=features)\n",
        "    st.pyplot(plt)"
      ]
    }
  ]
}